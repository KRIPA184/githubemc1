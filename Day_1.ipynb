{
  "nbformat": 4,
  "nbformat_minor": 0,
  "metadata": {
    "colab": {
      "provenance": [],
      "collapsed_sections": [
        "L_gFsbpc5JY8",
        "gXCINS865MeA",
        "QX-PuPBAVNeo",
        "AN06h0oj5RHx"
      ],
      "include_colab_link": true
    },
    "kernelspec": {
      "name": "python3",
      "display_name": "Python 3"
    },
    "language_info": {
      "name": "python"
    }
  },
  "cells": [
    {
      "cell_type": "markdown",
      "metadata": {
        "id": "view-in-github",
        "colab_type": "text"
      },
      "source": [
        "<a href=\"https://colab.research.google.com/github/KRIPA184/githubemc1/blob/main/Day_1.ipynb\" target=\"_parent\"><img src=\"https://colab.research.google.com/assets/colab-badge.svg\" alt=\"Open In Colab\"/></a>"
      ]
    },
    {
      "cell_type": "markdown",
      "source": [
        "# Loading the dataset"
      ],
      "metadata": {
        "id": "L_gFsbpc5JY8"
      }
    },
    {
      "cell_type": "code",
      "source": [
        "import pandas as pd\n",
        "df = pd.read_csv('/content/WineQT.csv')\n",
        "print(df.head())\n"
      ],
      "metadata": {
        "colab": {
          "base_uri": "https://localhost:8080/"
        },
        "id": "hjf59N3oR6US",
        "outputId": "bea264a1-0786-4652-8ec4-f65aafd72a9b"
      },
      "execution_count": 2,
      "outputs": [
        {
          "output_type": "stream",
          "name": "stdout",
          "text": [
            "   fixed acidity  volatile acidity  citric acid  residual sugar  chlorides  \\\n",
            "0            7.4              0.70         0.00             1.9      0.076   \n",
            "1            7.8              0.88         0.00             2.6      0.098   \n",
            "2            7.8              0.76         0.04             2.3      0.092   \n",
            "3           11.2              0.28         0.56             1.9      0.075   \n",
            "4            7.4              0.70         0.00             1.9      0.076   \n",
            "\n",
            "   free sulfur dioxide  total sulfur dioxide  density    pH  sulphates  \\\n",
            "0                 11.0                  34.0   0.9978  3.51       0.56   \n",
            "1                 25.0                  67.0   0.9968  3.20       0.68   \n",
            "2                 15.0                  54.0   0.9970  3.26       0.65   \n",
            "3                 17.0                  60.0   0.9980  3.16       0.58   \n",
            "4                 11.0                  34.0   0.9978  3.51       0.56   \n",
            "\n",
            "   alcohol  quality  Id  \n",
            "0      9.4        5   0  \n",
            "1      9.8        5   1  \n",
            "2      9.8        5   2  \n",
            "3      9.8        6   3  \n",
            "4      9.4        5   4  \n"
          ]
        }
      ]
    },
    {
      "cell_type": "markdown",
      "source": [
        "# Descriptive Statistics"
      ],
      "metadata": {
        "id": "eJSWy7MDGMym"
      }
    },
    {
      "cell_type": "code",
      "source": [
        "alcohol_stats = df['alcohol'].describe()\n",
        "print(alcohol_stats)\n",
        "\n",
        "\n",
        "quality_stats = df['quality'].describe()\n",
        "print(quality_stats)\n"
      ],
      "metadata": {
        "colab": {
          "base_uri": "https://localhost:8080/"
        },
        "id": "8Vk2Tu7MGRs1",
        "outputId": "5dd70e96-3fd8-4bac-90f8-4860019900d0"
      },
      "execution_count": 3,
      "outputs": [
        {
          "output_type": "stream",
          "name": "stdout",
          "text": [
            "count    1143.000000\n",
            "mean       10.442111\n",
            "std         1.082196\n",
            "min         8.400000\n",
            "25%         9.500000\n",
            "50%        10.200000\n",
            "75%        11.100000\n",
            "max        14.900000\n",
            "Name: alcohol, dtype: float64\n",
            "count    1143.000000\n",
            "mean        5.657043\n",
            "std         0.805824\n",
            "min         3.000000\n",
            "25%         5.000000\n",
            "50%         6.000000\n",
            "75%         6.000000\n",
            "max         8.000000\n",
            "Name: quality, dtype: float64\n"
          ]
        }
      ]
    },
    {
      "cell_type": "markdown",
      "source": [
        "# Grouped **Analysis**"
      ],
      "metadata": {
        "id": "8oreEOGWGaeI"
      }
    },
    {
      "cell_type": "code",
      "source": [
        "\n",
        "grouped_data = df.groupby('quality')['alcohol'].mean()\n",
        "print(grouped_data)\n"
      ],
      "metadata": {
        "colab": {
          "base_uri": "https://localhost:8080/"
        },
        "id": "zThZhUtkGfv6",
        "outputId": "8cd6d8a2-23e9-4e72-d78a-164069ead60c"
      },
      "execution_count": 4,
      "outputs": [
        {
          "output_type": "stream",
          "name": "stdout",
          "text": [
            "quality\n",
            "3     9.691667\n",
            "4    10.260606\n",
            "5     9.902277\n",
            "6    10.655339\n",
            "7    11.482634\n",
            "8    11.937500\n",
            "Name: alcohol, dtype: float64\n"
          ]
        }
      ]
    },
    {
      "cell_type": "markdown",
      "source": [
        "# 4.**Visualization**"
      ],
      "metadata": {
        "id": "k8dVOf1GGkCs"
      }
    },
    {
      "cell_type": "code",
      "source": [
        "import matplotlib.pyplot as plt\n",
        "\n",
        "# Bar chart for average alcohol content by wine quality\n",
        "grouped_data.plot(kind='bar', color='skyblue')\n",
        "plt.title('Average Alcohol Content by Wine Quality')\n",
        "plt.xlabel('Wine Quality')\n",
        "plt.ylabel('Average Alcohol Content (%)')\n",
        "plt.show()\n"
      ],
      "metadata": {
        "colab": {
          "base_uri": "https://localhost:8080/",
          "height": 467
        },
        "id": "bksOBEOnGphb",
        "outputId": "0b8ebd2b-53df-48f5-b7ff-e6adf98dce6d"
      },
      "execution_count": 5,
      "outputs": [
        {
          "output_type": "display_data",
          "data": {
            "text/plain": [
              "<Figure size 640x480 with 1 Axes>"
            ],
            "image/png": "[encoded data removed]"
          },
          "metadata": {}
        }
      ]
    },
    {
      "cell_type": "markdown",
      "source": [
        "# 5.Report\n"
      ],
      "metadata": {
        "id": "YW-POjYbGs21"
      }
    },
    {
      "cell_type": "markdown",
      "source": [
        "## Summary of Findings\n",
        "- The dataset contains data on various chemical properties of wines, including alcohol content and quality ratings.\n",
        "- The summary statistics show that the average alcohol content in the wines is around X%.\n",
        "- When grouped by wine quality, wines with higher quality ratings tend to have slightly higher average alcohol content.\n",
        "- This trend suggests that alcohol content may play a role in determining the quality of the wine, although other factors are also likely influential.\n",
        "- The bar chart visually confirms this trend, showing a gradual increase in alcohol content as wine quality increases.\n"
      ],
      "metadata": {
        "id": "BVeeFVCMHNoH"
      }
    }
  ]
}